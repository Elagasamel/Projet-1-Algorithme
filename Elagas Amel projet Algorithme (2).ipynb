{
 "cells": [
  {
   "cell_type": "markdown",
   "metadata": {},
   "source": [
    " ### <a style =\"color:#35cd36\" > Elagas Amel    2Dni Groupe 1  $$2020-2021$$ </a>"
   ]
  },
  {
   "cell_type": "markdown",
   "metadata": {},
   "source": [
    "# <center style=\"color:#cd3635\"> Projet - Algorithmique avancée Thème : Récursivité </center>\n"
   ]
  },
  {
   "cell_type": "markdown",
   "metadata": {},
   "source": [
    " ## <p style=\"color:#cd8235\" > Probléme  </p>"
   ]
  },
  {
   "cell_type": "markdown",
   "metadata": {},
   "source": [
    "N reines sur l'échiquier NxN.\n",
    "\n",
    "On veut essayer d'arranger N reines sur un échiquier NxN de telle sorte qu'aucune reine ne puisse abattre une autre reine.\n",
    "\n",
    "Une reine peut attaquer horizontalement, verticalement ou en diagonale.\n"
   ]
  },
  {
   "cell_type": "markdown",
   "metadata": {},
   "source": [
    " ## <p style=\"color:#cd8235\" >Solution proposé  </p>"
   ]
  },
  {
   "cell_type": "markdown",
   "metadata": {},
   "source": [
    "La solution à ce problème est la suivante:\n",
    "Nous plaçons d'abord la première reine n'importe où arbitrairement, puis la reine suivante dans l'un des endroits sûrs. Nous continuons ce processus jusqu'à ce que le nombre de reines non placées devienne zéro (une solution est trouvée) ou qu'aucun endroit sûr ne soit laissé. Si aucun endroit sûr n'est laissé, nous changeons la position de la reine précédemment placée."
   ]
  },
  {
   "cell_type": "markdown",
   "metadata": {},
   "source": [
    "## <p style = \"color:#3635cd\"> Partie Algorithmique </p>"
   ]
  },
  {
   "cell_type": "markdown",
   "metadata": {},
   "source": [
    " #### <p style=\"color:#cd8235\" >Principe </p>\n",
    " Étant donné n, d'un échiquier n x n, trouvez le bon placement des reines sur l'échiquier."
   ]
  },
  {
   "cell_type": "markdown",
   "metadata": {},
   "source": [
    " ## <p style=\"color:#cd8235\" > Algorithme placer_reine:</p>\n",
    " \n",
    " Algorithme  placer_reine(k, i) : \n",
    "\n",
    "// Returns true if a queen can be placed\n",
    "\n",
    "// in kth row and ith column. Otherwise it\n",
    "\n",
    "// returns false. X[ ] is a global array\n",
    "\n",
    "// whose first (k-1) values have been set.\n",
    "\n",
    "// Abs( ) returns absolute value of r\n",
    "Var \n",
    "j, i, k : entier \n",
    "\n",
    "Début \n",
    "\n",
    "   Pour j de  1 à  k-1 faire \n",
    "\n",
    "        // Two in the same column\n",
    "        \n",
    "        // or in the same diagonal\n",
    "        \n",
    "        Si  ((x[j] == i)  ou\n",
    "        \n",
    "            (abs(x[j] – i) = Abs(j – k)))\n",
    "            \n",
    "           alors  \n",
    "           \n",
    "           retourner  faux;\n",
    "           \n",
    "        Fin Si \n",
    "\n",
    "    retourner vrai;\n",
    "    \n",
    "  Fin pour   \n",
    "\n",
    "Fin."
   ]
  },
  {
   "cell_type": "markdown",
   "metadata": {},
   "source": [
    "## <p style=\"color:#cd8235\" > Algorithme  placer_toutes_reines(k, n) :</p>\n",
    " \n",
    " // Using backtracking, this procedure prints all \n",
    " \n",
    "// possible placements of n queens on an n×n \n",
    "\n",
    "// chessboard so that they are nonattacking.\n",
    "\n",
    "Algorithme  placer_toutes_reines(k, n)\n",
    "  \n",
    "Var \n",
    "  \n",
    "j, i, k : entier \n",
    "\n",
    "\n",
    "Début \n",
    "  \n",
    "  Pour i de 1 à n faire \n",
    "      \n",
    "          \n",
    "         si  placer_reine(k, i) \n",
    "         \n",
    "         alors\n",
    "         \n",
    "             x[k] = i;\n",
    "             \n",
    "             si  (k == n)\n",
    "             \n",
    "                ecrire (x[1:n]);\n",
    "                \n",
    "             sinon \n",
    "             \n",
    "               placer_toutes_reines(k+1, n);\n",
    "               \n",
    "         Fin Si \n",
    "         \n",
    "  Fin Pour \n",
    "         \n",
    "  \n",
    "Fin.  "
   ]
  },
  {
   "cell_type": "markdown",
   "metadata": {},
   "source": [
    " ## <p style=\"color:#cd8235\" > Traduction en Python  </p>"
   ]
  },
  {
   "cell_type": "code",
   "execution_count": 1,
   "metadata": {},
   "outputs": [
    {
     "name": "stdout",
     "output_type": "stream",
     "text": [
      "Enter the number of queens\n",
      "2\n"
     ]
    }
   ],
   "source": [
    "#Number of queens\n",
    "print (\"Enter the number of queens\")\n",
    "N = int(input())\n"
   ]
  },
  {
   "cell_type": "code",
   "execution_count": 2,
   "metadata": {},
   "outputs": [],
   "source": [
    "#chessboard\n",
    "#NxN matrix with all elements 0\n",
    "board = [[0]*N for _ in range(N)]"
   ]
  },
  {
   "cell_type": "code",
   "execution_count": 3,
   "metadata": {},
   "outputs": [],
   "source": [
    "def is_attack(i, j):\n",
    "    #checking if there is a queen in row or column\n",
    "    for k in range(0,N):\n",
    "        if board[i][k]==1 or board[k][j]==1:\n",
    "            return True\n",
    "    #checking diagonals\n",
    "    for k in range(0,N):\n",
    "        for l in range(0,N):\n",
    "            if (k+l==i+j) or (k-l==i-j):\n",
    "                if board[k][l]==1:\n",
    "                    return True\n",
    "    return False"
   ]
  },
  {
   "cell_type": "code",
   "execution_count": 4,
   "metadata": {},
   "outputs": [],
   "source": [
    "def N_queen(n):\n",
    "    #if n is 0, solution found\n",
    "    if n==0:\n",
    "        return True\n",
    "    for i in range(0,N):\n",
    "        for j in range(0,N):\n",
    "            '''checking if we can place a queen here or not\n",
    "            queen will not be placed if the place is being attacked\n",
    "            or already occupied'''\n",
    "            if (not(is_attack(i,j))) and (board[i][j]!=1):\n",
    "                board[i][j] = 1\n",
    "                #recursion\n",
    "                #wether we can put the next queen with this arrangment or not\n",
    "                if N_queen(n-1)==True:\n",
    "                    return True\n",
    "                board[i][j] = 0\n",
    "\n",
    "    return False"
   ]
  },
  {
   "cell_type": "code",
   "execution_count": 5,
   "metadata": {},
   "outputs": [
    {
     "name": "stdout",
     "output_type": "stream",
     "text": [
      "[0, 0]\n",
      "[0, 0]\n"
     ]
    }
   ],
   "source": [
    "N_queen(N)\n",
    "for i in board:\n",
    "    print (i)"
   ]
  },
  {
   "cell_type": "markdown",
   "metadata": {},
   "source": [
    " ## <p style=\"color:#cd8235\" > Explication du code </p>"
   ]
  },
  {
   "cell_type": "markdown",
   "metadata": {},
   "source": [
    "is_attack (int i, int j) → Ceci est une fonction pour vérifier si la cellule (i, j) est attaquée par une autre reine ou non. Nous vérifions simplement s'il y a une autre reine dans la ligne «i» ou la colonne «j». Ensuite, nous vérifions s'il y a une reine sur les cellules diagonales de la cellule (i, j) ou non. Toute cellule (k, l) sera diagonale de la cellule (i, j) si k + l est égal à i + j ou k-l est égal à i-j.\n",
    "\n",
    "N_queen → C'est la fonction où nous implémentons réellement l'algorithme backtracking .\n",
    "\n",
    "if (n == 0) → S'il n'y a plus de reine, cela signifie que toutes les reines sont placées et que nous avons une solution.\n",
    "\n",
    "if ((! is_attack (i, j)) && (board [i] [j]! = 1)) → Nous vérifions juste si la cellule est disponible pour placer une reine ou non. La fonction is_attack vérifiera si la cellule est attaquée par une autre reine et le conseil [i] [j]! = 1 s'assure que la cellule est vide. Si ces conditions sont remplies, nous pouvons mettre une reine dans la cellule - tableau [i] [j] = 1.\n",
    "\n",
    "if (N_queen (n-1) == 1) → Maintenant, nous appelons à nouveau la fonction pour placer les reines restantes et c'est là que nous faisons le retour en arrière. Si cette fonction (pour placer la reine restante) n'est pas vraie, alors nous changeons simplement notre coup actuel - board [i] [j] = 0 et la boucle placera la reine sur une autre position cette fois."
   ]
  },
  {
   "cell_type": "markdown",
   "metadata": {},
   "source": [
    "## <p style = \"color:#3635cd\"> Python code  for n Queen placement </p>"
   ]
  },
  {
   "cell_type": "code",
   "execution_count": 6,
   "metadata": {},
   "outputs": [
    {
     "name": "stdout",
     "output_type": "stream",
     "text": [
      "\n",
      "------------------------------------------------\n",
      "Arrangement No. 1 \n",
      "------------------------------------------------\n",
      "\t_ \tQ \t_ \t_ \n",
      "\t_ \t_ \t_ \tQ \n",
      "\tQ \t_ \t_ \t_ \n",
      "\t_ \t_ \tQ \t_ \n",
      "\n",
      "------------------------------------------------\n",
      "\n",
      "------------------------------------------------\n",
      "Arrangement No. 2 \n",
      "------------------------------------------------\n",
      "\t_ \t_ \tQ \t_ \n",
      "\tQ \t_ \t_ \t_ \n",
      "\t_ \t_ \t_ \tQ \n",
      "\t_ \tQ \t_ \t_ \n",
      "\n",
      "------------------------------------------------\n"
     ]
    }
   ],
   "source": [
    "# Python code  for n Queen placement \n",
    "class GfG: \n",
    "\tdef __init__(self): \n",
    "\t\tself.MAX = 10\n",
    "\t\tself.arr = [0] * self.MAX\n",
    "\t\tself.no = 0\n",
    "\n",
    "\tdef breakLine(self): \n",
    "\t\tprint(\"\\n------------------------------------------------\") \n",
    "\n",
    "\tdef canPlace(self, k, i): \n",
    "\t\t\n",
    "\t\t# Helper Function to check \n",
    "\t\t# if queen can be placed \n",
    "\t\tfor j in range(1, k): \n",
    "\t\t\tif (self.arr[j] == i or\n",
    "\t\t\t(abs(self.arr[j] - i) == abs(j - k))): \n",
    "\t\t\t\treturn False\n",
    "\t\treturn True\n",
    "\n",
    "\tdef display(self, n): \n",
    "\t\t\n",
    "\t\t# Function to display placed queen \n",
    "\t\tself.breakLine() \n",
    "\t\tself.no += 1\n",
    "\t\tprint(\"Arrangement No.\", self.no, end = \" \") \n",
    "\t\tself.breakLine() \n",
    "\n",
    "\t\tfor i in range(1, n + 1): \n",
    "\t\t\tfor j in range(1, n + 1): \n",
    "\t\t\t\tif self.arr[i] != j: \n",
    "\t\t\t\t\tprint(\"\\t_\", end = \" \") \n",
    "\t\t\t\telse: \n",
    "\t\t\t\t\tprint(\"\\tQ\", end = \" \") \n",
    "\t\t\tprint() \n",
    "\n",
    "\t\tself.breakLine() \n",
    "\n",
    "\tdef nQueens(self, k, n): \n",
    "\t\t\n",
    "\t\t# Function to check queens placement \n",
    "\t\tfor i in range(1, n + 1): \n",
    "\t\t\tif self.canPlace(k, i): \n",
    "\t\t\t\tself.arr[k] = i \n",
    "\t\t\t\tif k == n: \n",
    "\t\t\t\t\tself.display(n) \n",
    "\t\t\t\telse: \n",
    "\t\t\t\t\tself.nQueens(k + 1, n) \n",
    "\n",
    "# Driver Code \n",
    "if __name__ == '__main__': \n",
    "\tn = 4\n",
    "\tobj = GfG() \n",
    "\tobj.nQueens(1, n) \n",
    "\n",
    " \n"
   ]
  },
  {
   "cell_type": "markdown",
   "metadata": {},
   "source": [
    " ## <p style=\"color:#cd8235\" >Solution proposé  pour 4 Queen </p>"
   ]
  },
  {
   "cell_type": "markdown",
   "metadata": {},
   "source": [
    "Le problème de placer N reines d'échecs sur un échiquier N × N de sorte qu'aucune reine ne s'attaque l'une à l'autre. Par exemple, voici une solution pour le problème 4 Queen."
   ]
  },
  {
   "cell_type": "markdown",
   "metadata": {},
   "source": [
    "\n",
    "## <p style =\"color:#cccd35\" >L'idée  </p>"
   ]
  },
  {
   "cell_type": "markdown",
   "metadata": {},
   "source": [
    "L'idée est de placer les reines une à une dans différentes colonnes, en partant de la colonne la plus à gauche. Lorsque nous plaçons une reine dans une colonne, nous vérifions les affrontements avec des reines déjà placées. Dans la colonne courante, si nous trouvons une ligne pour laquelle il n'y a pas de conflit, nous marquons cette ligne et cette colonne comme faisant partie de la solution. Si nous ne trouvons pas une telle ligne en raison de conflits, nous revenons en arrière et retournons false."
   ]
  },
  {
   "cell_type": "markdown",
   "metadata": {},
   "source": [
    "1) Commencez dans la colonne la plus à gauche\n",
    "\n",
    "\n",
    "2) Si toutes les reines sont placées\n",
    "    retourne vrai\n",
    "    \n",
    "    \n",
    "3) Essayez toutes les lignes de la colonne actuelle. Suivre\n",
    "   pour chaque ligne essayée.\n",
    "   \n",
    "    a) Si la reine peut être placée en toute sécurité dans cette rangée\n",
    "       puis marquez cette [ligne, colonne] comme faisant partie de la\n",
    "       solution et vérifiez récursivement si vous placez\n",
    "       reine ici conduit à une solution.\n",
    "       \n",
    "    b) Si placer la reine dans [rangée, colonne] mène à un\n",
    "       solution puis retourne vrai.\n",
    "       \n",
    "    c) Si placer la reine ne mène pas à une solution\n",
    "       puis décochez cette [ligne, colonne] (Retour en arrière)\n",
    "       et passez à l'étape (a) pour essayer d'autres lignes.\n",
    "       \n",
    "3) Si toutes les lignes ont été essayées et que rien n'a fonctionné,\n",
    "   retourne false pour déclencher le retour en arrière."
   ]
  },
  {
   "cell_type": "markdown",
   "metadata": {},
   "source": [
    "## Version Python"
   ]
  },
  {
   "cell_type": "code",
   "execution_count": 7,
   "metadata": {},
   "outputs": [
    {
     "data": {
      "text/plain": [
       "' A utility function to check if a queen can \\nbe placed on board[row][col]. Note that this \\nfunction is called when \"col\" queens are \\nalready placed in columns from 0 to col -1. \\nSo we need to check only left side for \\nattacking queens '"
      ]
     },
     "execution_count": 7,
     "metadata": {},
     "output_type": "execute_result"
    }
   ],
   "source": [
    "''' Python3 program to solve N Queen Problem using \n",
    "backtracking '''\n",
    "k = 1\n",
    "\n",
    "# A utility function to print solution \n",
    "def printSolution(board): \n",
    "\n",
    "\tglobal k\n",
    "\tprint(k, \"-\\n\")\n",
    "\tk = k + 1\n",
    "\tfor i in range(4): \n",
    "\t\tfor j in range(4):\n",
    "\t\t\tprint(board[i][j], end = \" \")\n",
    "\t\tprint(\"\\n\")\n",
    "\tprint(\"\\n\") \n",
    "\n",
    "''' A utility function to check if a queen can \n",
    "be placed on board[row][col]. Note that this \n",
    "function is called when \"col\" queens are \n",
    "already placed in columns from 0 to col -1. \n",
    "So we need to check only left side for \n",
    "attacking queens '''\n"
   ]
  },
  {
   "cell_type": "code",
   "execution_count": 8,
   "metadata": {},
   "outputs": [],
   "source": [
    "def isSafe(board, row, col) :\n",
    "\t\n",
    "\t# Check this row on left side \n",
    "\tfor i in range(col): \n",
    "\t\tif (board[row][i]): \n",
    "\t\t\treturn False\n",
    "\n",
    "\t# Check upper diagonal on left side \n",
    "\ti = row\n",
    "\tj = col\n",
    "\twhile i >= 0 and j >= 0:\n",
    "\t\tif(board[i][j]):\n",
    "\t\t\treturn False;\n",
    "\t\ti -= 1\n",
    "\t\tj -= 1\n",
    "\n",
    "\t# Check lower diagonal on left side \n",
    "\ti = row\n",
    "\tj = col\n",
    "\twhile j >= 0 and i < 4:\n",
    "\t\tif(board[i][j]):\n",
    "\t\t\treturn False\n",
    "\t\ti = i + 1\n",
    "\t\tj = j - 1\n",
    "\n",
    "\treturn True\n"
   ]
  },
  {
   "cell_type": "code",
   "execution_count": 9,
   "metadata": {},
   "outputs": [
    {
     "data": {
      "text/plain": [
       "' This function solves the N Queen problem using \\nBacktracking. It mainly uses solveNQUtil() to \\nsolve the problem. It returns false if queens \\ncannot be placed, otherwise return true and \\nprints placement of queens in the form of 1s. \\nPlease note that there may be more than one \\nsolutions, this function prints one of the \\nfeasible solutions.'"
      ]
     },
     "execution_count": 9,
     "metadata": {},
     "output_type": "execute_result"
    }
   ],
   "source": [
    "\n",
    "''' A recursive utility function to solve N \n",
    "Queen problem '''\n",
    "def solveNQUtil(board, col) :\n",
    "\t\n",
    "\t''' base case: If all queens are placed \n",
    "\tthen return true '''\n",
    "\tif (col == 4): \n",
    "\t\tprintSolution(board) \n",
    "\t\treturn True\n",
    "\n",
    "\t''' Consider this column and try placing \n",
    "\tthis queen in all rows one by one '''\n",
    "\tres = False\n",
    "\tfor i in range(4):\n",
    "\t\n",
    "\t\t''' Check if queen can be placed on \n",
    "\t\tboard[i][col] '''\n",
    "\t\tif (isSafe(board, i, col)): \n",
    "\t\t\n",
    "\t\t\t# Place this queen in board[i][col] \n",
    "\t\t\tboard[i][col] = 1; \n",
    "\n",
    "\t\t\t# Make result true if any placement \n",
    "\t\t\t# is possible \n",
    "\t\t\tres = solveNQUtil(board, col + 1) or res; \n",
    "\n",
    "\t\t\t''' If placing queen in board[i][col] \n",
    "\t\t\tdoesn't lead to a solution, then \n",
    "\t\t\tremove queen from board[i][col] '''\n",
    "\t\t\tboard[i][col] = 0 # BACKTRACK \n",
    "\t\t\n",
    "\t''' If queen can not be place in any row in \n",
    "\t\tthis column col then return false '''\n",
    "\treturn res\n",
    "\n",
    "''' This function solves the N Queen problem using \n",
    "Backtracking. It mainly uses solveNQUtil() to \n",
    "solve the problem. It returns false if queens \n",
    "cannot be placed, otherwise return true and \n",
    "prints placement of queens in the form of 1s. \n",
    "Please note that there may be more than one \n",
    "solutions, this function prints one of the \n",
    "feasible solutions.'''\n"
   ]
  },
  {
   "cell_type": "code",
   "execution_count": 10,
   "metadata": {},
   "outputs": [
    {
     "name": "stdout",
     "output_type": "stream",
     "text": [
      "1 -\n",
      "\n",
      "0 0 1 0 \n",
      "\n",
      "1 0 0 0 \n",
      "\n",
      "0 0 0 1 \n",
      "\n",
      "0 1 0 0 \n",
      "\n",
      "\n",
      "\n",
      "2 -\n",
      "\n",
      "0 1 0 0 \n",
      "\n",
      "0 0 0 1 \n",
      "\n",
      "1 0 0 0 \n",
      "\n",
      "0 0 1 0 \n",
      "\n",
      "\n",
      "\n"
     ]
    }
   ],
   "source": [
    "def solveNQ() :\n",
    "\n",
    "\tboard = [[0 for j in range(10)] \n",
    "\t\t\t\tfor i in range(10)]\n",
    "\n",
    "\tif (solveNQUtil(board, 0) == False): \n",
    "\t\n",
    "\t\tprint(\"Solution does not exist\") \n",
    "\t\treturn\n",
    "\treturn\n",
    "\n",
    "# Driver Code \n",
    "solveNQ() \n"
   ]
  },
  {
   "cell_type": "markdown",
   "metadata": {},
   "source": [
    "## Algorithme:\n",
    "\n",
    "Il n'y a toujours qu'une seule reine dans chaque ligne et chaque colonne, donc l'idée de revenir en arrière est de commencer à placer la reine à partir de la colonne la plus à gauche de chaque ligne et de trouver une colonne où la reine pourrait être placée sans collision avec les reines précédemment placées. Il est répété de la première rangée à la dernière rangée. Lors du placement d'une reine, elle est suivie comme si elle ne faisait pas de collision (en ligne, en colonne et en diagonale) avec les reines placées dans les lignes précédentes. Une fois qu'il est constaté que la reine ne peut pas être placée à un index de colonne particulier dans une rangée, l'algorithme revient en arrière et change la position de la reine placée dans la rangée précédente, puis avance pour placer la reine dans la rangée suivante.\n",
    "\n",
    "1. Commencez avec un vecteur à trois bits qui est utilisé pour suivre le lieu sûr pour le placement de la reine en ligne, en colonne et en diagonale à chaque itération.\n",
    "2. Le vecteur à trois bits contiendra les informations ci-dessous:\n",
    "\n",
    "rowmask: l'index de bit défini (i) de ce vecteur de bit indiquera que la reine ne peut pas être placée à la ième colonne de la ligne suivante.\n",
    "\n",
    "ldmask: l'index de bit défini (i) de ce vecteur de bit indiquera que la reine ne peut pas être placée à la ième colonne de la ligne suivante. Il représente l'index de colonne non sécurisé pour la ligne suivante tombe sous la diagonale gauche des reines placées dans les lignes précédentes.\n",
    "\n",
    "rdmask: l'index de bit défini (i) de ce vecteur de bit indiquera que la reine ne peut pas être placée à la ième colonne de la ligne suivante. Il représente l'index de colonne non sécurisé pour la ligne suivante tombe en diagonale droite des reines placées dans les lignes précédentes.\n",
    "\n",
    "3. Il existe une matrice 2-D (NxN) (tableau), qui aura le caractère «» à tous les index au début et elle est remplie par «Q» ligne par ligne. Une fois que toutes les lignes sont remplies par «Q», cette matrice de tableau est affichée et la variable de compteur pour compter le nombre de façons de placer une reine avec succès est augmentée. Enfin, la variable de compteur est affichée comme le nombre total de façons de placer les reines."
   ]
  },
  {
   "cell_type": "markdown",
   "metadata": {},
   "source": [
    "## Version Python"
   ]
  },
  {
   "cell_type": "code",
   "execution_count": 11,
   "metadata": {},
   "outputs": [],
   "source": [
    "# Python program for above approach\n",
    "import math\n"
   ]
  },
  {
   "cell_type": "code",
   "execution_count": 12,
   "metadata": {},
   "outputs": [],
   "source": [
    "ways = 0\n",
    "# Program to solve N-Queens Problem\n",
    "def solveBoard(board, row, rowmask, \n",
    "                              ldmask, rdmask):\n",
    "   \n",
    "    n = len(board)\n",
    "     \n",
    "    # All_rows_filled is a bit mask \n",
    "    # having all N bits set\n",
    "    all_rows_filled = (1 << n) - 1\n",
    "     \n",
    "    # If rowmask will have all bits set, means\n",
    "    # queen has been placed successfully\n",
    "    # in all rows and board is diplayed\n",
    "    if (rowmask == all_rows_filled):\n",
    "        global ways\n",
    "        ways = ways + 1\n",
    "        print(\"=====================\")\n",
    "        print(\"Queen placement - \" + (str)(ways))\n",
    "        print(\"=====================\")\n",
    "        printBoard(board)\n",
    "         \n",
    "    # We extract a bit mask(safe) by rowmask,\n",
    "    # ldmask and rdmask. all set bits of 'safe' \n",
    "    # indicates the safe column index for queen\n",
    "    # placement of this iteration for row index(row).\n",
    "    safe = all_rows_filled & (~(rowmask | \n",
    "                                   ldmask | rdmask))\n",
    "     \n",
    "    while (safe > 0):\n",
    "       \n",
    "        # Extracts the right-most set bit\n",
    "        # (safe column index) where queen \n",
    "        # can be placed for this row\n",
    "        p = safe & (-safe)\n",
    "        col = (int)(math.log(p)/math.log(2))\n",
    "        board[row][col] = 'Q'\n",
    "         \n",
    "        # This is very important:\n",
    "        # we need to update rowmask, ldmask and rdmask \n",
    "        # for next row as safe index for queen placement\n",
    "        # will be decided by these three bit masks.\n",
    " \n",
    "        # We have all three rowmask, ldmask and \n",
    "        # rdmask as 0 in beginning. Suppose, we are placing\n",
    "        # queen at 1st column index at 0th row. rowmask, ldmask\n",
    "        # and rdmask will change for next row as below:\n",
    "  \n",
    "        # rowmask's 1st bit will be set by OR operation\n",
    "        # rowmask = 00000000000000000000000000000010\n",
    " \n",
    "        # ldmask will change by setting 1st\n",
    "        # bit by OR operation  and left shifting \n",
    "        # by 1 as it has to block the next column\n",
    "        # of next row because that will fall on left diagonal.\n",
    "        # ldmask = 00000000000000000000000000000100 \n",
    " \n",
    "        # rdmask will change by setting 1st bit \n",
    "        # by OR operation and right shifting by 1\n",
    "        # as it has to block the previous column\n",
    "        # of next row because that will fall on right diagonal.\n",
    "        # rdmask = 00000000000000000000000000000001\n",
    " \n",
    "        # these bit masks will keep updated in each \n",
    "        # iteration for next row\n",
    "        solveBoard(board, row+1, rowmask|p, \n",
    "                           (ldmask|p) << 1, (rdmask|p) >> 1)\n",
    "         \n",
    "        # Reset right-most set bit to 0 so, next \n",
    "        # iteration will continue by placing the queen\n",
    "        # at another safe column index of this row\n",
    "        safe = safe & (safe-1)\n",
    "         \n",
    "        # Backtracking, replace 'Q' by ' '\n",
    "        board[row][col] = ' '\n",
    " \n"
   ]
  },
  {
   "cell_type": "code",
   "execution_count": 13,
   "metadata": {},
   "outputs": [],
   "source": [
    "# Program to print board\n",
    "def printBoard(board):\n",
    "    for row in board:\n",
    "        print(\"|\" + \"|\".join(row) + \"|\")\n"
   ]
  },
  {
   "cell_type": "code",
   "execution_count": 14,
   "metadata": {},
   "outputs": [
    {
     "name": "stdout",
     "output_type": "stream",
     "text": [
      "=====================\n",
      "Queen placement - 1\n",
      "=====================\n",
      "| |Q| | |\n",
      "| | | |Q|\n",
      "|Q| | | |\n",
      "| | |Q| |\n",
      "=====================\n",
      "Queen placement - 2\n",
      "=====================\n",
      "| | |Q| |\n",
      "|Q| | | |\n",
      "| | | |Q|\n",
      "| |Q| | |\n",
      "\n",
      "Number of ways to place 4 queens : 2\n"
     ]
    }
   ],
   "source": [
    " \n",
    "# Driver Code        \n",
    "def main():\n",
    "   \n",
    "    n = 4;  # board size\n",
    "    board = []\n",
    "     \n",
    "    for i in range (n):\n",
    "        row = []\n",
    "        for j in range (n):\n",
    "            row.append(' ')\n",
    "        board.append(row)\n",
    " \n",
    "    rowmask = 0\n",
    "    ldmask = 0\n",
    "    rdmask = 0\n",
    "    row = 0\n",
    "     \n",
    "    # Function Call\n",
    "    solveBoard(board, row, rowmask, ldmask, rdmask)\n",
    "     \n",
    "    # creates a new line\n",
    "    print() \n",
    "    print(\"Number of ways to place \" + (str)(n) +\n",
    "                          \" queens : \" + (str)(ways))\n",
    "     \n",
    "if __name__== \"__main__\":\n",
    "    main()"
   ]
  }
 ],
 "metadata": {
  "kernelspec": {
   "display_name": "Python 3",
   "language": "python",
   "name": "python3"
  },
  "language_info": {
   "codemirror_mode": {
    "name": "ipython",
    "version": 3
   },
   "file_extension": ".py",
   "mimetype": "text/x-python",
   "name": "python",
   "nbconvert_exporter": "python",
   "pygments_lexer": "ipython3",
   "version": "3.8.3"
  }
 },
 "nbformat": 4,
 "nbformat_minor": 2
}
